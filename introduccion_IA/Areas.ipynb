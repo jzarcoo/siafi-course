{
 "cells": [
  {
   "cell_type": "markdown",
   "id": "e45f1e17-ced2-4dda-b437-8bb538e45197",
   "metadata": {},
   "source": [
    "<center><h1>Areas</h1></center>"
   ]
  },
  {
   "cell_type": "markdown",
   "id": "2bc3abe7-6249-437e-9b84-3ee999dae075",
   "metadata": {},
   "source": [
    "# Robotics"
   ]
  },
  {
   "cell_type": "markdown",
   "id": "0789e1d7-003d-4178-881d-986ffbd9d519",
   "metadata": {},
   "source": [
    "# Computer Vision"
   ]
  },
  {
   "cell_type": "markdown",
   "id": "38ff4894-4f23-4d99-95fa-54740ccd4737",
   "metadata": {},
   "source": [
    "# Natural Language Processing"
   ]
  },
  {
   "cell_type": "markdown",
   "id": "f03c083e-ae02-4607-90a5-ab2d313a5686",
   "metadata": {},
   "source": [
    "# Machine Learning"
   ]
  },
  {
   "cell_type": "markdown",
   "id": "0070e212-ec0c-465b-a919-c684e9add29f",
   "metadata": {},
   "source": [
    "### ML Supervised\n",
    "\n",
    "> Supervised learning, also known as supervised machine learning, is defined by the use of **data sets labeled** to train algorithms to classify data or **predict results accurately**. As the input data are entered into the model, it adjusts its weights until properly adjusted. This occurs as part of the cross-validation process to ensure that the model avoids overadjustment adjustment or mismatch. \n",
    "Supervised learning helps organizations solve a variety of real-world problems on a scale, such as sorting spam into a separate folder of the inbox. \n",
    "Methods used in supervised learning include neural networks, naive bays, **linear regression, logistic regression, random forest** and support vector machine (SVM)."
   ]
  },
  {
   "cell_type": "markdown",
   "id": "c5d1a285-d55e-4c28-b55f-892fb5ea77ef",
   "metadata": {},
   "source": [
    "### ML Unsupervised\n",
    "\n",
    "> Unsupervised learning, also known as unsupervised machine learning, uses machine learning algorithms to analyze and group unlabelled data sets (subsets called **clusters**). These algorithms discover hidden patterns or data clusters without the need for human intervention. The ability of this method to discover **similarities and differences** in information makes it ideal for exploratory data analysis, cross-selling strategies, customer segmentation and image and pattern recognition. It is also used to reduce the number of characteristics of a model through the process of reducing dimensionality. The analysis of main components (PCA) and the decomposition of singular values (SVD) are two common approaches to this. Other algorithms used in unsupervised learning include neural networks, the clustering of media k and the methods of **probabilistic grouping**."
   ]
  },
  {
   "cell_type": "markdown",
   "id": "5894a2ce-a068-4b8c-ab0d-1d30eba930fb",
   "metadata": {},
   "source": [
    "<img alt=\"MLtypes\" width=600px style=\"display:block; margin-left: auto; margin-right: auto;\" src=\"https://lh6.googleusercontent.com/proxy/VD1vWv63ZJWPElmPkpdUH0mJi0NIBjroaTiWo4b_Nszdjz6N38f-KNCcPzarncIUFDGgcvU2AoPxA56HGJ-0f_hmLCdjiLYA8xlsFJW-rFYfbnpVjnJjvZSfM1lGoTgCYoVYGvdpUF7gclEouCPUcI_gcYzXBTk\">"
   ]
  },
  {
   "cell_type": "markdown",
   "id": "593a5c20-ad86-4155-af66-c21292f2a60c",
   "metadata": {},
   "source": [
    "### Classification"
   ]
  },
  {
   "cell_type": "markdown",
   "id": "c3c77de6-bfd9-4517-838c-1d41641c674d",
   "metadata": {},
   "source": [
    "1. In **binary** classification, the goal is to classify the input into one of two classes or categories, e.g., on the basis of the given health conditions of a person, we have to determine whether the person has a certain disease or not.\n",
    "\n",
    "2. In **multi-class** classification, the goal is to classify the input into one of several classes or categories, e.g., on the basis of data about different species of flowers, we have to determine which specie our observation belongs to."
   ]
  },
  {
   "cell_type": "markdown",
   "id": "01d1e444-eb69-499e-a7ea-771b7dc9ddd3",
   "metadata": {},
   "source": [
    "<img alt=\"lassification_types\" width=500px style=\"margin: 0 auto;\" src=\"https://media.geeksforgeeks.org/wp-content/uploads/classification-1.png\">"
   ]
  },
  {
   "cell_type": "markdown",
   "id": "5053cfde-2172-4825-a8ab-971a7d79b8b7",
   "metadata": {},
   "source": [
    "### Regresion"
   ]
  },
  {
   "cell_type": "markdown",
   "id": "31379f57-82d0-4a6d-a5b7-4bdff5a09ec3",
   "metadata": {},
   "source": [
    "It is a supervised machine learning technique, used to **predict** the value of the dependent variable for new, unseen data. It models the relationship between the input features and the **target variable** (dependent variable), allowing for the estimation or prediction of numerical values."
   ]
  },
  {
   "cell_type": "markdown",
   "id": "e18c53a8-f07e-4669-8a67-b142cc7ff8e0",
   "metadata": {},
   "source": [
    "<img alt=\"ml_typles\" width=700px style=\"margin: 0 auto;\" src=\"./img/clustering_others.png\">"
   ]
  },
  {
   "cell_type": "markdown",
   "id": "d9687d8b-600c-4396-ad37-53dd70821448",
   "metadata": {},
   "source": [
    "## Deep Learning"
   ]
  },
  {
   "cell_type": "code",
   "execution_count": null,
   "id": "242140fd-8989-4939-920d-e62d12f1c76d",
   "metadata": {},
   "outputs": [],
   "source": []
  },
  {
   "cell_type": "code",
   "execution_count": null,
   "id": "18b75cb5-1b95-460e-9119-b9f9d5474231",
   "metadata": {},
   "outputs": [],
   "source": []
  },
  {
   "cell_type": "code",
   "execution_count": null,
   "id": "53ac4cbf-91a3-4819-9dc3-7419c8d45186",
   "metadata": {},
   "outputs": [],
   "source": []
  },
  {
   "cell_type": "code",
   "execution_count": null,
   "id": "6bd95768-dd95-46c9-b730-12fa91f1ebe1",
   "metadata": {},
   "outputs": [],
   "source": []
  },
  {
   "cell_type": "code",
   "execution_count": null,
   "id": "654f1004-7a1c-436d-b977-4d08321c702f",
   "metadata": {},
   "outputs": [],
   "source": []
  },
  {
   "cell_type": "code",
   "execution_count": null,
   "id": "76f133b0-552e-467b-9699-0bc03d06f339",
   "metadata": {},
   "outputs": [],
   "source": []
  },
  {
   "cell_type": "code",
   "execution_count": null,
   "id": "b8b5c2e4-557c-40a4-bb22-e56132477080",
   "metadata": {},
   "outputs": [],
   "source": []
  },
  {
   "cell_type": "code",
   "execution_count": null,
   "id": "d0cae196-4595-42e8-9fcc-717d6a417bf9",
   "metadata": {},
   "outputs": [],
   "source": []
  },
  {
   "cell_type": "code",
   "execution_count": null,
   "id": "f1341784-80d1-4fd9-a247-10156ec715e0",
   "metadata": {},
   "outputs": [],
   "source": []
  },
  {
   "cell_type": "markdown",
   "id": "489a208f-0d81-4a05-a296-8cbb363bc130",
   "metadata": {},
   "source": [
    "---"
   ]
  },
  {
   "cell_type": "markdown",
   "id": "4521605e-2e86-49d0-a63e-1797046c1d24",
   "metadata": {},
   "source": [
    "- IBM. What is machine learning (ML)? Retrieved en Septiembre 30, 2024 from https://www.ibm.com/mx-es/topics/machine-learning"
   ]
  },
  {
   "cell_type": "code",
   "execution_count": null,
   "id": "7cd043a3-ab79-4946-9987-c341255940a5",
   "metadata": {},
   "outputs": [],
   "source": []
  }
 ],
 "metadata": {
  "kernelspec": {
   "display_name": "Python 3 (ipykernel)",
   "language": "python",
   "name": "python3"
  },
  "language_info": {
   "codemirror_mode": {
    "name": "ipython",
    "version": 3
   },
   "file_extension": ".py",
   "mimetype": "text/x-python",
   "name": "python",
   "nbconvert_exporter": "python",
   "pygments_lexer": "ipython3",
   "version": "3.11.9"
  }
 },
 "nbformat": 4,
 "nbformat_minor": 5
}
