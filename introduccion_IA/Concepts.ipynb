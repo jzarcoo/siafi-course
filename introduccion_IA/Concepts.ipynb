{
 "cells": [
  {
   "cell_type": "markdown",
   "id": "8b88d111-6c81-4c87-861b-1f9d2d6be8c3",
   "metadata": {},
   "source": [
    "# What is Artificial Intelligence?"
   ]
  },
  {
   "cell_type": "markdown",
   "id": "27ae436e-1560-4de5-97f3-dd0d5c05ee5c",
   "metadata": {},
   "source": [
    "Artificial intelligence (AI) is technology that enables computers and machines to simulate human learning, comprehension, problem solving, decision making, creativity and autonomy."
   ]
  },
  {
   "cell_type": "markdown",
   "id": "31092178-eef2-4147-b3f3-fd60d16cf4bb",
   "metadata": {},
   "source": [
    "<img alt=\"AI\" width=\"800px\" style=\"display:block; margin-left: auto; margin-right: auto;\" alt=\"AI\" src=\"https://www.ibm.com/content/dam/connectedassets-adobe-cms/worldwide-content/creative-assets/s-migr/ul/g/39/1f/diagram-comparing-ai-ml-deep-learning-gen-ai.png\">"
   ]
  },
  {
   "cell_type": "markdown",
   "id": "0c431f85-0990-429b-8def-93cf604a9b09",
   "metadata": {},
   "source": [
    "## Weak AI"
   ]
  },
  {
   "cell_type": "markdown",
   "id": "458d4dd8-fd4e-4ae7-9eb0-2154d4310d91",
   "metadata": {},
   "source": [
    "Weak AI’s limited functionality allows it to **automate** that specific task with ease, "
   ]
  },
  {
   "cell_type": "markdown",
   "id": "deb8f64a-5f99-40a3-beeb-f07acec07609",
   "metadata": {},
   "source": [
    "- Focus on **specific** tasks\n",
    "- No **reasoning** ability\n",
    "- No **consciousness** or **emotions**\n",
    "- **Data-driven** learning"
   ]
  },
  {
   "cell_type": "markdown",
   "id": "0f80b091-08cd-4caa-9449-2d57e70066be",
   "metadata": {},
   "source": [
    "Examples:"
   ]
  },
  {
   "cell_type": "markdown",
   "id": "44ed27fc-22e3-493e-b56b-759a861e9475",
   "metadata": {},
   "source": [
    "- Chatbots\n",
    "- Email spam filters\n",
    "- Smart assistants like Siri and Alexa\n",
    "- Self-driving cars\n",
    "- GPS and navigation apps like Google Maps\n",
    "- Autocorrect features in Apple or Samsung products\n",
    "- Spotify shuffle"
   ]
  },
  {
   "cell_type": "markdown",
   "id": "a20fc593-896c-49ba-9e85-086e01bd9923",
   "metadata": {},
   "source": [
    "## Strong AI"
   ]
  },
  {
   "cell_type": "markdown",
   "id": "11adcc5f-4b46-4692-a8b3-162663a87150",
   "metadata": {},
   "source": [
    "Unlike narrower weak AI systems, strong AI would have open-ended abilities to learn, reason, and **adapt** to unfamiliar environments. It implies possessing generalized intelligence and capabilities on par with **human cognition**."
   ]
  },
  {
   "cell_type": "markdown",
   "id": "6ed224de-d1c9-4c9b-8fa7-e83806ed8555",
   "metadata": {},
   "source": [
    "# History"
   ]
  },
  {
   "cell_type": "markdown",
   "id": "dc273fa0-3a6f-4a85-8484-9b99e1f06cfa",
   "metadata": {},
   "source": [
    "1. *John McCarthy* coined the term \"Artificial Intelligence\" in **1956** and promoted in the 1960s the development of the first programming language of AI, LISP."
   ]
  },
  {
   "cell_type": "markdown",
   "id": "e6dc047f-6b2f-453f-b273-2dbb429642d0",
   "metadata": {},
   "source": [
    "<img alt=\"diagram\" width=\"400px\" style=\"display: block; margin-left: auto; margin-right: auto;\" src=\"https://d2jdgazzki9vjm.cloudfront.net/tutorial/ai/images/simple-reflex-agent.png\">"
   ]
  },
  {
   "cell_type": "markdown",
   "id": "dad2d7cf-705d-4cbf-8228-cc27921e5586",
   "metadata": {},
   "source": [
    "#### Examples"
   ]
  },
  {
   "cell_type": "markdown",
   "id": "cbb79f76-ba9b-4dbf-92c0-127737ca64bb",
   "metadata": {},
   "source": [
    "AI ~ IoT"
   ]
  },
  {
   "cell_type": "markdown",
   "id": "3f6437b1-5d73-4385-ae5c-e48e28c19cda",
   "metadata": {},
   "source": [
    "Temperature and ultrasound sensors to detect the presence of people in the rooms of the house and regulate the ambient temperature accordingly."
   ]
  },
  {
   "cell_type": "code",
   "execution_count": null,
   "id": "2ff22c4d-3a9a-4e47-a1ad-c2193654cfa8",
   "metadata": {},
   "outputs": [],
   "source": []
  },
  {
   "cell_type": "code",
   "execution_count": null,
   "id": "49ea9bde-e6db-4894-b378-ce3110cd92a8",
   "metadata": {},
   "outputs": [],
   "source": []
  },
  {
   "cell_type": "code",
   "execution_count": null,
   "id": "274000fd-93de-437d-97e5-a3b46ffcce8f",
   "metadata": {},
   "outputs": [],
   "source": []
  },
  {
   "cell_type": "markdown",
   "id": "7a4dd5b1-6f2b-4660-940b-4fce6ecbe31b",
   "metadata": {},
   "source": [
    "---"
   ]
  },
  {
   "cell_type": "markdown",
   "id": "95512aec-c7aa-4c7d-a4f2-2a6a0e7fceac",
   "metadata": {},
   "source": [
    "- IBM (2024). What is artificial intelligence (AI)?. Retrieved Septiembre 20, 2024 from https://www.ibm.com/topics/artificial-intelligence"
   ]
  },
  {
   "cell_type": "code",
   "execution_count": null,
   "id": "7f6d8184-b5b0-4b0a-a6ec-79afdec733b6",
   "metadata": {},
   "outputs": [],
   "source": []
  }
 ],
 "metadata": {
  "kernelspec": {
   "display_name": "Python 3 (ipykernel)",
   "language": "python",
   "name": "python3"
  },
  "language_info": {
   "codemirror_mode": {
    "name": "ipython",
    "version": 3
   },
   "file_extension": ".py",
   "mimetype": "text/x-python",
   "name": "python",
   "nbconvert_exporter": "python",
   "pygments_lexer": "ipython3",
   "version": "3.11.9"
  }
 },
 "nbformat": 4,
 "nbformat_minor": 5
}
