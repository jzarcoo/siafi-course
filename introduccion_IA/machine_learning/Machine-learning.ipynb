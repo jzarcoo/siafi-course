{
 "cells": [
  {
   "cell_type": "markdown",
   "id": "d8168979-509c-41b5-b871-f43c5e33996f",
   "metadata": {},
   "source": [
    "**Machine learning**\n",
    "> Conjunto de técnicas que se usa para que una máquina aprenda por su cuenta"
   ]
  },
  {
   "cell_type": "markdown",
   "id": "503b10c9-ff69-48f4-b3f5-a2db92e1df19",
   "metadata": {},
   "source": [
    "AI estudia **agentes** que reciben información del ambiente y hacen acciones"
   ]
  },
  {
   "cell_type": "markdown",
   "id": "93ad66af-bd6e-4448-ab5e-af3fc4001d40",
   "metadata": {},
   "source": [
    "## Datos\n",
    "\n",
    "Set de datos\n",
    "- de entrenamiento\n",
    "- de prueba\n",
    "\n",
    "OVERFITING. Deficientes en pruebas pero buenos en entrenamiento\n"
   ]
  },
  {
   "cell_type": "markdown",
   "id": "91bf9971-d66a-497b-9143-fd7a60b693d6",
   "metadata": {},
   "source": [
    "# Supervisado\n",
    "\n",
    "- Datos **etiquetados**\n",
    "\n",
    "Ejemplos: Kanji-Ji"
   ]
  },
  {
   "cell_type": "markdown",
   "id": "83b158a9-a013-4ddb-a824-b34ac5a184f1",
   "metadata": {},
   "source": [
    "# NO Supervisado\n",
    "\n",
    "- Datos **no etiquetados**\n",
    "- Características, grupos\n",
    "\n",
    "Ejemplos: Crowdstrike"
   ]
  },
  {
   "cell_type": "markdown",
   "id": "ff4f49b1-c50e-4003-960c-59e3ec2b0a6b",
   "metadata": {},
   "source": [
    "## Refuerzo\n",
    "- Penalización\n",
    "- Recompensa\n",
    "\n",
    "Ejemplo: AlphaGo\n",
    "\n",
    "### Redes Neuronales"
   ]
  },
  {
   "cell_type": "markdown",
   "id": "87d70171-ce35-4db8-b368-528e888016d0",
   "metadata": {},
   "source": [
    "# Probabilistico\n",
    "\n",
    "Intentan construir una distribución de probabilidades de las\n",
    "características de los datos para realizar tareas de clasificación, regresión o tareas de aprendizaje no supervisado\n",
    "\n",
    "● Naive Bayes\n",
    "● Redes Bayesianas\n",
    "● Modelos de mezcla Gaussiana\n"
   ]
  },
  {
   "cell_type": "markdown",
   "id": "3da84d3f-4f82-41e6-a012-5414642de9c1",
   "metadata": {},
   "source": [
    "# REGRESIÓN\n",
    "Algoritmos de aprendizaje supervisado\n",
    "que busca predecir el valor de una\n",
    "variable continua\n",
    "\n",
    "● Regresión lineal\n",
    "● Regresión ordinario por mínimos cuadrados\n",
    "● Regresión logística"
   ]
  },
  {
   "cell_type": "markdown",
   "id": "73703aad-37e2-4068-9f27-142fd0ff8f3a",
   "metadata": {},
   "source": [
    "# AGRUPAMIENTO\n",
    "Algoritmos de aprendizaje no supervisado\n",
    "para lo cual generan agrupaciones mediante\n",
    "el grado de similitud entre agrupaciones\n",
    "\n",
    "● Bosques aleatorios\n",
    "● Algoritmos tipo bagging\n",
    "● Algoritmos tipo boosting"
   ]
  },
  {
   "cell_type": "markdown",
   "id": "6a8fc8d7-363e-4a20-816d-7e02398b0679",
   "metadata": {},
   "source": [
    "<img src=\"./cuandousarml.png\" />"
   ]
  },
  {
   "cell_type": "markdown",
   "id": "459e062b-e331-456d-80ac-16cb57cdb802",
   "metadata": {},
   "source": [
    "1. ¿CUÁNDO USAR ML?\n",
    "2. ¿CÓMO DEFINIR UN PROBLEMA EN ML?\n",
    "3. WORKFLOW"
   ]
  },
  {
   "cell_type": "markdown",
   "id": "3bea2f6b-079e-4327-9714-f19bfe0f30ec",
   "metadata": {},
   "source": [
    "# EL MACHINE LEARNING ES UNA HERRAMIENTA, LOS DATOS LO SON TODO"
   ]
  },
  {
   "cell_type": "markdown",
   "id": "4ede57ad-8ef1-4563-9929-2d3f9e61f2f0",
   "metadata": {},
   "source": [
    "# Conceptos clave"
   ]
  },
  {
   "cell_type": "markdown",
   "id": "00cf2e78-c8d3-4304-a853-e4fa132ea97f",
   "metadata": {},
   "source": [
    "Resumen:\n",
    "- **Outliers**: Datos que son muy diferentes del resto.\n",
    "- **Missing Values**: Falta de información en los datos.\n",
    "- **Bias**: Error por un modelo demasiado simple.\n",
    "- **Variance**: Sensibilidad excesiva a los datos de entrenamiento.\n",
    "- **Underfitting**: Modelo que no captura suficiente la complejidad de los datos.\n",
    "- **Overfitting**: Modelo que se ajusta demasiado a los datos de entrenamiento, incluyendo el ruido."
   ]
  },
  {
   "cell_type": "markdown",
   "id": "38e08132-5904-423d-940d-e47677ed52cb",
   "metadata": {},
   "source": [
    "\n",
    "1. Outliers (Valores atípicos)\n",
    "> Un outlier es un valor que difiere significativamente de otros datos en el conjunto. Pueden ser causados por errores de medición o variaciones en el comportamiento. En machine learning, los outliers pueden afectar la precisión del modelo.\n",
    "\n",
    "Ejemplo: En un conjunto de datos de ingresos anuales, si la mayoría de las personas ganan entre $20,000 y $100,000, un individuo que gane $1,000,000 sería un outlier.\n",
    "    \n",
    "2. Missing Values (Valores faltantes)\n",
    "> Los missing values son entradas en un conjunto de datos donde no se tiene información disponible. Pueden ser problemáticos porque muchos modelos de machine learning no pueden manejar datos faltantes.\n",
    "\n",
    "Ejemplo: En un conjunto de datos de pacientes, si no se registra la presión arterial de algunos individuos, estos serían valores faltantes.\n",
    "    \n",
    "3. Bias (Sesgo)\n",
    ">El bias es un error sistemático que ocurre cuando un modelo es demasiado simple para capturar la complejidad de los datos, lo que conduce a errores altos tanto en los datos de entrenamiento como en los datos de prueba.\n",
    "\n",
    "Ejemplo: Si utilizas una línea recta para modelar datos que claramente tienen una tendencia curva, tu modelo tendrá un alto sesgo, ya que no puede representar correctamente la relación entre las variables.\n",
    "\n",
    "4. Variance (Varianza)\n",
    "> La variance se refiere a la sensibilidad del modelo a pequeñas variaciones en los datos de entrenamiento. Un modelo con alta varianza suele ajustarse demasiado a los datos de entrenamiento, lo que lleva a un mal rendimiento en los datos de prueba.\n",
    "\n",
    "Ejemplo: Si un modelo de regresión se ajusta perfectamente a todos los puntos de un conjunto de datos con ruido, probablemente tendrá una alta varianza y no generalizará bien con nuevos datos.\n",
    "\n",
    "5. Underfitting (Subajuste)\n",
    "> El underfitting ocurre cuando el modelo no es lo suficientemente complejo para capturar la estructura subyacente de los datos. Esto provoca un mal rendimiento tanto en el conjunto de entrenamiento como en el de prueba.\n",
    "\n",
    "Ejemplo: Utilizar un modelo lineal para predecir la relación entre características no lineales en un conjunto de datos. El modelo será incapaz de captar correctamente las relaciones complejas.\n",
    "\n",
    "6. Overfitting (Sobreajuste)\n",
    "> El overfitting sucede cuando un modelo es demasiado complejo y se ajusta demasiado a los datos de entrenamiento, incluyendo el ruido o los outliers, lo que lleva a un mal rendimiento en los datos de prueba.\n",
    "\n",
    "Ejemplo: Un modelo de regresión polinomial de grado alto que pasa por todos los puntos de un conjunto de entrenamiento, pero cuando se le da un nuevo conjunto de datos, tiene un desempeño deficiente porque capturó patrones irrelevantes."
   ]
  },
  {
   "cell_type": "code",
   "execution_count": null,
   "id": "0cfceacb-dd0e-4ee5-95e3-63fcd13001a0",
   "metadata": {},
   "outputs": [],
   "source": []
  }
 ],
 "metadata": {
  "kernelspec": {
   "display_name": "Python 3 (ipykernel)",
   "language": "python",
   "name": "python3"
  },
  "language_info": {
   "codemirror_mode": {
    "name": "ipython",
    "version": 3
   },
   "file_extension": ".py",
   "mimetype": "text/x-python",
   "name": "python",
   "nbconvert_exporter": "python",
   "pygments_lexer": "ipython3",
   "version": "3.11.9"
  }
 },
 "nbformat": 4,
 "nbformat_minor": 5
}
