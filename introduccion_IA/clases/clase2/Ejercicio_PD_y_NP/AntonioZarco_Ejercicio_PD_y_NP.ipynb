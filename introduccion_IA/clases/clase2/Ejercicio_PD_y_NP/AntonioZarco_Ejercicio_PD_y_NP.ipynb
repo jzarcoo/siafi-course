{
 "cells": [
  {
   "cell_type": "markdown",
   "metadata": {
    "id": "4LwXDcg0ei_V"
   },
   "source": [
    "### EJERCICIO"
   ]
  },
  {
   "cell_type": "markdown",
   "metadata": {
    "id": "BbrMk9OQZRfG"
   },
   "source": [
    "**ANÁLISIS DE PELÍCULAS MÁS VISTAS**\n",
    "\n",
    "\n",
    "---\n",
    "\n",
    "**Fuente del dataset:**\n",
    "\n",
    "https://www.kaggle.com/datasets/khalidalam980/top-rated-movies-data-set\n",
    "\n",
    "---\n",
    "\n",
    "### **Actividad**\n",
    "Este conjunto de datos contiene una vasta variedad de 10,000 películas excepcionales. Además abarca un amplio espectro de géneros, tramas cautivadoras e inolvidables personajes que han dejado una marca indeleble en el panorama cinematográfico global.\n",
    "\n",
    "Cada entrada en este conjunto de datos revela información esencial, incluyendo el ID único de la película, los IDs de género asociados, el título, una sinopsis, la popularidad, la fecha de lanzamiento, el promedio de votos y la apreciación colectiva medida por el recuento de votos.\n",
    "\n",
    "Utilizando tus conocimientos adquiridos en esta sesión obten lo siguiente:\n",
    "\n",
    "\n",
    "*   El nombre de la película con mayor promedio de votos (vote_average)\n",
    "*   El nombre de la película con menor promedio de votos (vote_average)\n",
    "*   El promedio de votos de todas las películas (vote_count)\n",
    "*   El nombre de la película más reciente del dataset (release_date)\n",
    "*   El nombre de la película más popular de los años 90s (popularity, release_date).\n",
    "\n",
    "---\n",
    "\n",
    "\n",
    "**TIPS**\n",
    "- Emplea las funciones de Numpy.\n",
    "- Recuerda utilizar los operados OR (|) y AND (&) para las condiciones múltiples.\n",
    "- Utiliza la función loc para ubicar un dato usando indices que puedes obtener con idxmax() y idxmin() junto a los corchetes para ubicar las columnas del dataframe.\n",
    "- Para obtener el año de una fecha utiliza dt.year después del campo con tipo de dato datetime\n",
    "\n",
    "Por ejemplo obtener las películas de los años 80s\n",
    "```\n",
    "movies_80s = movies[(movies[\"Year\"] >= 1980) & (movies[\"Year\"] <= 1989)]\n",
    "```"
   ]
  },
  {
   "cell_type": "code",
   "execution_count": 1,
   "metadata": {
    "colab": {
     "base_uri": "https://localhost:8080/",
     "height": 634
    },
    "executionInfo": {
     "elapsed": 253,
     "status": "ok",
     "timestamp": 1728486904418,
     "user": {
      "displayName": "SIAFI Capacitación",
      "userId": "01846424181559574846"
     },
     "user_tz": 360
    },
    "id": "cU1jtXUDZ7ji",
    "outputId": "ae0807a3-6a63-49f0-edbd-d558a6139ee7"
   },
   "outputs": [
    {
     "data": {
      "text/html": [
       "<div>\n",
       "<style scoped>\n",
       "    .dataframe tbody tr th:only-of-type {\n",
       "        vertical-align: middle;\n",
       "    }\n",
       "\n",
       "    .dataframe tbody tr th {\n",
       "        vertical-align: top;\n",
       "    }\n",
       "\n",
       "    .dataframe thead th {\n",
       "        text-align: right;\n",
       "    }\n",
       "</style>\n",
       "<table border=\"1\" class=\"dataframe\">\n",
       "  <thead>\n",
       "    <tr style=\"text-align: right;\">\n",
       "      <th></th>\n",
       "      <th>Unnamed: 0</th>\n",
       "      <th>id</th>\n",
       "      <th>genre_ids</th>\n",
       "      <th>title</th>\n",
       "      <th>overview</th>\n",
       "      <th>popularity</th>\n",
       "      <th>release_date</th>\n",
       "      <th>vote_average</th>\n",
       "      <th>vote_count</th>\n",
       "    </tr>\n",
       "  </thead>\n",
       "  <tbody>\n",
       "    <tr>\n",
       "      <th>0</th>\n",
       "      <td>0</td>\n",
       "      <td>238</td>\n",
       "      <td>[18, 80]</td>\n",
       "      <td>The Godfather</td>\n",
       "      <td>Spanning the years 1945 to 1955, a chronicle o...</td>\n",
       "      <td>119.438</td>\n",
       "      <td>1972-03-14</td>\n",
       "      <td>8.7</td>\n",
       "      <td>18448</td>\n",
       "    </tr>\n",
       "    <tr>\n",
       "      <th>1</th>\n",
       "      <td>1</td>\n",
       "      <td>278</td>\n",
       "      <td>[18, 80]</td>\n",
       "      <td>The Shawshank Redemption</td>\n",
       "      <td>Framed in the 1940s for the double murder of h...</td>\n",
       "      <td>90.415</td>\n",
       "      <td>1994-09-23</td>\n",
       "      <td>8.7</td>\n",
       "      <td>24376</td>\n",
       "    </tr>\n",
       "    <tr>\n",
       "      <th>2</th>\n",
       "      <td>2</td>\n",
       "      <td>240</td>\n",
       "      <td>[18, 80]</td>\n",
       "      <td>The Godfather Part II</td>\n",
       "      <td>In the continuing saga of the Corleone crime f...</td>\n",
       "      <td>70.637</td>\n",
       "      <td>1974-12-20</td>\n",
       "      <td>8.6</td>\n",
       "      <td>11144</td>\n",
       "    </tr>\n",
       "    <tr>\n",
       "      <th>3</th>\n",
       "      <td>3</td>\n",
       "      <td>424</td>\n",
       "      <td>[18, 36, 10752]</td>\n",
       "      <td>Schindler's List</td>\n",
       "      <td>The true story of how businessman Oskar Schind...</td>\n",
       "      <td>48.096</td>\n",
       "      <td>1993-12-15</td>\n",
       "      <td>8.6</td>\n",
       "      <td>14421</td>\n",
       "    </tr>\n",
       "    <tr>\n",
       "      <th>4</th>\n",
       "      <td>4</td>\n",
       "      <td>19404</td>\n",
       "      <td>[35, 18, 10749]</td>\n",
       "      <td>Dilwale Dulhania Le Jayenge</td>\n",
       "      <td>Raj is a rich, carefree, happy-go-lucky second...</td>\n",
       "      <td>26.588</td>\n",
       "      <td>1995-10-20</td>\n",
       "      <td>8.6</td>\n",
       "      <td>4225</td>\n",
       "    </tr>\n",
       "    <tr>\n",
       "      <th>...</th>\n",
       "      <td>...</td>\n",
       "      <td>...</td>\n",
       "      <td>...</td>\n",
       "      <td>...</td>\n",
       "      <td>...</td>\n",
       "      <td>...</td>\n",
       "      <td>...</td>\n",
       "      <td>...</td>\n",
       "      <td>...</td>\n",
       "    </tr>\n",
       "    <tr>\n",
       "      <th>9995</th>\n",
       "      <td>9995</td>\n",
       "      <td>604563</td>\n",
       "      <td>[35, 12, 28]</td>\n",
       "      <td>OSS 117: From Africa with Love</td>\n",
       "      <td>1981. Hubert Bonisseur de la Bath, aka OSS 117...</td>\n",
       "      <td>9.245</td>\n",
       "      <td>2021-08-04</td>\n",
       "      <td>5.7</td>\n",
       "      <td>664</td>\n",
       "    </tr>\n",
       "    <tr>\n",
       "      <th>9996</th>\n",
       "      <td>9996</td>\n",
       "      <td>193687</td>\n",
       "      <td>[878, 18]</td>\n",
       "      <td>Z for Zachariah</td>\n",
       "      <td>In the wake of a nuclear war, a young woman su...</td>\n",
       "      <td>11.309</td>\n",
       "      <td>2015-08-13</td>\n",
       "      <td>5.7</td>\n",
       "      <td>856</td>\n",
       "    </tr>\n",
       "    <tr>\n",
       "      <th>9997</th>\n",
       "      <td>9997</td>\n",
       "      <td>14423</td>\n",
       "      <td>[35, 28]</td>\n",
       "      <td>First Sunday</td>\n",
       "      <td>Durell and LeeJohn are best friends and bumbli...</td>\n",
       "      <td>8.188</td>\n",
       "      <td>2008-01-11</td>\n",
       "      <td>5.7</td>\n",
       "      <td>215</td>\n",
       "    </tr>\n",
       "    <tr>\n",
       "      <th>9998</th>\n",
       "      <td>9998</td>\n",
       "      <td>10154</td>\n",
       "      <td>[35, 80, 10749]</td>\n",
       "      <td>Mickey Blue Eyes</td>\n",
       "      <td>An English auctioneer proposes to the daughter...</td>\n",
       "      <td>9.401</td>\n",
       "      <td>1999-08-16</td>\n",
       "      <td>5.7</td>\n",
       "      <td>502</td>\n",
       "    </tr>\n",
       "    <tr>\n",
       "      <th>9999</th>\n",
       "      <td>9999</td>\n",
       "      <td>440762</td>\n",
       "      <td>[35]</td>\n",
       "      <td>Jay and Silent Bob Reboot</td>\n",
       "      <td>Jay and Silent Bob embark on a cross-country m...</td>\n",
       "      <td>13.206</td>\n",
       "      <td>2019-10-15</td>\n",
       "      <td>5.7</td>\n",
       "      <td>452</td>\n",
       "    </tr>\n",
       "  </tbody>\n",
       "</table>\n",
       "<p>10000 rows × 9 columns</p>\n",
       "</div>"
      ],
      "text/plain": [
       "      Unnamed: 0      id        genre_ids                           title  \\\n",
       "0              0     238         [18, 80]                   The Godfather   \n",
       "1              1     278         [18, 80]        The Shawshank Redemption   \n",
       "2              2     240         [18, 80]           The Godfather Part II   \n",
       "3              3     424  [18, 36, 10752]                Schindler's List   \n",
       "4              4   19404  [35, 18, 10749]     Dilwale Dulhania Le Jayenge   \n",
       "...          ...     ...              ...                             ...   \n",
       "9995        9995  604563     [35, 12, 28]  OSS 117: From Africa with Love   \n",
       "9996        9996  193687        [878, 18]                 Z for Zachariah   \n",
       "9997        9997   14423         [35, 28]                    First Sunday   \n",
       "9998        9998   10154  [35, 80, 10749]                Mickey Blue Eyes   \n",
       "9999        9999  440762             [35]       Jay and Silent Bob Reboot   \n",
       "\n",
       "                                               overview  popularity  \\\n",
       "0     Spanning the years 1945 to 1955, a chronicle o...     119.438   \n",
       "1     Framed in the 1940s for the double murder of h...      90.415   \n",
       "2     In the continuing saga of the Corleone crime f...      70.637   \n",
       "3     The true story of how businessman Oskar Schind...      48.096   \n",
       "4     Raj is a rich, carefree, happy-go-lucky second...      26.588   \n",
       "...                                                 ...         ...   \n",
       "9995  1981. Hubert Bonisseur de la Bath, aka OSS 117...       9.245   \n",
       "9996  In the wake of a nuclear war, a young woman su...      11.309   \n",
       "9997  Durell and LeeJohn are best friends and bumbli...       8.188   \n",
       "9998  An English auctioneer proposes to the daughter...       9.401   \n",
       "9999  Jay and Silent Bob embark on a cross-country m...      13.206   \n",
       "\n",
       "     release_date  vote_average  vote_count  \n",
       "0      1972-03-14           8.7       18448  \n",
       "1      1994-09-23           8.7       24376  \n",
       "2      1974-12-20           8.6       11144  \n",
       "3      1993-12-15           8.6       14421  \n",
       "4      1995-10-20           8.6        4225  \n",
       "...           ...           ...         ...  \n",
       "9995   2021-08-04           5.7         664  \n",
       "9996   2015-08-13           5.7         856  \n",
       "9997   2008-01-11           5.7         215  \n",
       "9998   1999-08-16           5.7         502  \n",
       "9999   2019-10-15           5.7         452  \n",
       "\n",
       "[10000 rows x 9 columns]"
      ]
     },
     "execution_count": 1,
     "metadata": {},
     "output_type": "execute_result"
    }
   ],
   "source": [
    "import numpy as np\n",
    "import pandas as pd\n",
    "import matplotlib.pyplot as plt\n",
    "\n",
    "# Cargar los datos desde el archivo CSV\n",
    "df = pd.read_csv(\"MoviesTopRated.csv\")\n",
    "df"
   ]
  },
  {
   "cell_type": "code",
   "execution_count": 2,
   "metadata": {
    "colab": {
     "base_uri": "https://localhost:8080/",
     "height": 617
    },
    "executionInfo": {
     "elapsed": 224,
     "status": "ok",
     "timestamp": 1728486906743,
     "user": {
      "displayName": "SIAFI Capacitación",
      "userId": "01846424181559574846"
     },
     "user_tz": 360
    },
    "id": "PpyZ3gaSPfG5",
    "outputId": "6f2b9159-ebb6-4086-ab2b-cb50d783590f"
   },
   "outputs": [
    {
     "data": {
      "text/html": [
       "<div>\n",
       "<style scoped>\n",
       "    .dataframe tbody tr th:only-of-type {\n",
       "        vertical-align: middle;\n",
       "    }\n",
       "\n",
       "    .dataframe tbody tr th {\n",
       "        vertical-align: top;\n",
       "    }\n",
       "\n",
       "    .dataframe thead th {\n",
       "        text-align: right;\n",
       "    }\n",
       "</style>\n",
       "<table border=\"1\" class=\"dataframe\">\n",
       "  <thead>\n",
       "    <tr style=\"text-align: right;\">\n",
       "      <th></th>\n",
       "      <th>id</th>\n",
       "      <th>genre_ids</th>\n",
       "      <th>title</th>\n",
       "      <th>overview</th>\n",
       "      <th>popularity</th>\n",
       "      <th>release_date</th>\n",
       "      <th>vote_average</th>\n",
       "      <th>vote_count</th>\n",
       "    </tr>\n",
       "  </thead>\n",
       "  <tbody>\n",
       "    <tr>\n",
       "      <th>0</th>\n",
       "      <td>238</td>\n",
       "      <td>[18, 80]</td>\n",
       "      <td>The Godfather</td>\n",
       "      <td>Spanning the years 1945 to 1955, a chronicle o...</td>\n",
       "      <td>119.438</td>\n",
       "      <td>1972-03-14</td>\n",
       "      <td>8.7</td>\n",
       "      <td>18448</td>\n",
       "    </tr>\n",
       "    <tr>\n",
       "      <th>1</th>\n",
       "      <td>278</td>\n",
       "      <td>[18, 80]</td>\n",
       "      <td>The Shawshank Redemption</td>\n",
       "      <td>Framed in the 1940s for the double murder of h...</td>\n",
       "      <td>90.415</td>\n",
       "      <td>1994-09-23</td>\n",
       "      <td>8.7</td>\n",
       "      <td>24376</td>\n",
       "    </tr>\n",
       "    <tr>\n",
       "      <th>2</th>\n",
       "      <td>240</td>\n",
       "      <td>[18, 80]</td>\n",
       "      <td>The Godfather Part II</td>\n",
       "      <td>In the continuing saga of the Corleone crime f...</td>\n",
       "      <td>70.637</td>\n",
       "      <td>1974-12-20</td>\n",
       "      <td>8.6</td>\n",
       "      <td>11144</td>\n",
       "    </tr>\n",
       "    <tr>\n",
       "      <th>3</th>\n",
       "      <td>424</td>\n",
       "      <td>[18, 36, 10752]</td>\n",
       "      <td>Schindler's List</td>\n",
       "      <td>The true story of how businessman Oskar Schind...</td>\n",
       "      <td>48.096</td>\n",
       "      <td>1993-12-15</td>\n",
       "      <td>8.6</td>\n",
       "      <td>14421</td>\n",
       "    </tr>\n",
       "    <tr>\n",
       "      <th>4</th>\n",
       "      <td>19404</td>\n",
       "      <td>[35, 18, 10749]</td>\n",
       "      <td>Dilwale Dulhania Le Jayenge</td>\n",
       "      <td>Raj is a rich, carefree, happy-go-lucky second...</td>\n",
       "      <td>26.588</td>\n",
       "      <td>1995-10-20</td>\n",
       "      <td>8.6</td>\n",
       "      <td>4225</td>\n",
       "    </tr>\n",
       "    <tr>\n",
       "      <th>...</th>\n",
       "      <td>...</td>\n",
       "      <td>...</td>\n",
       "      <td>...</td>\n",
       "      <td>...</td>\n",
       "      <td>...</td>\n",
       "      <td>...</td>\n",
       "      <td>...</td>\n",
       "      <td>...</td>\n",
       "    </tr>\n",
       "    <tr>\n",
       "      <th>9995</th>\n",
       "      <td>604563</td>\n",
       "      <td>[35, 12, 28]</td>\n",
       "      <td>OSS 117: From Africa with Love</td>\n",
       "      <td>1981. Hubert Bonisseur de la Bath, aka OSS 117...</td>\n",
       "      <td>9.245</td>\n",
       "      <td>2021-08-04</td>\n",
       "      <td>5.7</td>\n",
       "      <td>664</td>\n",
       "    </tr>\n",
       "    <tr>\n",
       "      <th>9996</th>\n",
       "      <td>193687</td>\n",
       "      <td>[878, 18]</td>\n",
       "      <td>Z for Zachariah</td>\n",
       "      <td>In the wake of a nuclear war, a young woman su...</td>\n",
       "      <td>11.309</td>\n",
       "      <td>2015-08-13</td>\n",
       "      <td>5.7</td>\n",
       "      <td>856</td>\n",
       "    </tr>\n",
       "    <tr>\n",
       "      <th>9997</th>\n",
       "      <td>14423</td>\n",
       "      <td>[35, 28]</td>\n",
       "      <td>First Sunday</td>\n",
       "      <td>Durell and LeeJohn are best friends and bumbli...</td>\n",
       "      <td>8.188</td>\n",
       "      <td>2008-01-11</td>\n",
       "      <td>5.7</td>\n",
       "      <td>215</td>\n",
       "    </tr>\n",
       "    <tr>\n",
       "      <th>9998</th>\n",
       "      <td>10154</td>\n",
       "      <td>[35, 80, 10749]</td>\n",
       "      <td>Mickey Blue Eyes</td>\n",
       "      <td>An English auctioneer proposes to the daughter...</td>\n",
       "      <td>9.401</td>\n",
       "      <td>1999-08-16</td>\n",
       "      <td>5.7</td>\n",
       "      <td>502</td>\n",
       "    </tr>\n",
       "    <tr>\n",
       "      <th>9999</th>\n",
       "      <td>440762</td>\n",
       "      <td>[35]</td>\n",
       "      <td>Jay and Silent Bob Reboot</td>\n",
       "      <td>Jay and Silent Bob embark on a cross-country m...</td>\n",
       "      <td>13.206</td>\n",
       "      <td>2019-10-15</td>\n",
       "      <td>5.7</td>\n",
       "      <td>452</td>\n",
       "    </tr>\n",
       "  </tbody>\n",
       "</table>\n",
       "<p>10000 rows × 8 columns</p>\n",
       "</div>"
      ],
      "text/plain": [
       "          id        genre_ids                           title  \\\n",
       "0        238         [18, 80]                   The Godfather   \n",
       "1        278         [18, 80]        The Shawshank Redemption   \n",
       "2        240         [18, 80]           The Godfather Part II   \n",
       "3        424  [18, 36, 10752]                Schindler's List   \n",
       "4      19404  [35, 18, 10749]     Dilwale Dulhania Le Jayenge   \n",
       "...      ...              ...                             ...   \n",
       "9995  604563     [35, 12, 28]  OSS 117: From Africa with Love   \n",
       "9996  193687        [878, 18]                 Z for Zachariah   \n",
       "9997   14423         [35, 28]                    First Sunday   \n",
       "9998   10154  [35, 80, 10749]                Mickey Blue Eyes   \n",
       "9999  440762             [35]       Jay and Silent Bob Reboot   \n",
       "\n",
       "                                               overview  popularity  \\\n",
       "0     Spanning the years 1945 to 1955, a chronicle o...     119.438   \n",
       "1     Framed in the 1940s for the double murder of h...      90.415   \n",
       "2     In the continuing saga of the Corleone crime f...      70.637   \n",
       "3     The true story of how businessman Oskar Schind...      48.096   \n",
       "4     Raj is a rich, carefree, happy-go-lucky second...      26.588   \n",
       "...                                                 ...         ...   \n",
       "9995  1981. Hubert Bonisseur de la Bath, aka OSS 117...       9.245   \n",
       "9996  In the wake of a nuclear war, a young woman su...      11.309   \n",
       "9997  Durell and LeeJohn are best friends and bumbli...       8.188   \n",
       "9998  An English auctioneer proposes to the daughter...       9.401   \n",
       "9999  Jay and Silent Bob embark on a cross-country m...      13.206   \n",
       "\n",
       "     release_date  vote_average  vote_count  \n",
       "0      1972-03-14           8.7       18448  \n",
       "1      1994-09-23           8.7       24376  \n",
       "2      1974-12-20           8.6       11144  \n",
       "3      1993-12-15           8.6       14421  \n",
       "4      1995-10-20           8.6        4225  \n",
       "...           ...           ...         ...  \n",
       "9995   2021-08-04           5.7         664  \n",
       "9996   2015-08-13           5.7         856  \n",
       "9997   2008-01-11           5.7         215  \n",
       "9998   1999-08-16           5.7         502  \n",
       "9999   2019-10-15           5.7         452  \n",
       "\n",
       "[10000 rows x 8 columns]"
      ]
     },
     "execution_count": 2,
     "metadata": {},
     "output_type": "execute_result"
    }
   ],
   "source": [
    "# Eliminamos la columna \"Unnamed: 0\"\n",
    "# axis=1 elimina columnas / 0 elimina filas\n",
    "df = df.drop(\"Unnamed: 0\", axis=1)\n",
    "df"
   ]
  },
  {
   "cell_type": "code",
   "execution_count": 41,
   "metadata": {
    "colab": {
     "base_uri": "https://localhost:8080/",
     "height": 617
    },
    "executionInfo": {
     "elapsed": 345,
     "status": "ok",
     "timestamp": 1728486909584,
     "user": {
      "displayName": "SIAFI Capacitación",
      "userId": "01846424181559574846"
     },
     "user_tz": 360
    },
    "id": "bDhPz-F4aUVR",
    "outputId": "96d9bdf7-e285-4cef-f8be-add649aa2d05"
   },
   "outputs": [
    {
     "data": {
      "text/html": [
       "<div>\n",
       "<style scoped>\n",
       "    .dataframe tbody tr th:only-of-type {\n",
       "        vertical-align: middle;\n",
       "    }\n",
       "\n",
       "    .dataframe tbody tr th {\n",
       "        vertical-align: top;\n",
       "    }\n",
       "\n",
       "    .dataframe thead th {\n",
       "        text-align: right;\n",
       "    }\n",
       "</style>\n",
       "<table border=\"1\" class=\"dataframe\">\n",
       "  <thead>\n",
       "    <tr style=\"text-align: right;\">\n",
       "      <th></th>\n",
       "      <th>id</th>\n",
       "      <th>genre_ids</th>\n",
       "      <th>title</th>\n",
       "      <th>overview</th>\n",
       "      <th>popularity</th>\n",
       "      <th>release_date</th>\n",
       "      <th>vote_average</th>\n",
       "      <th>vote_count</th>\n",
       "    </tr>\n",
       "  </thead>\n",
       "  <tbody>\n",
       "    <tr>\n",
       "      <th>0</th>\n",
       "      <td>238</td>\n",
       "      <td>[18, 80]</td>\n",
       "      <td>The Godfather</td>\n",
       "      <td>Spanning the years 1945 to 1955, a chronicle o...</td>\n",
       "      <td>119.438</td>\n",
       "      <td>1972-03-14</td>\n",
       "      <td>8.7</td>\n",
       "      <td>18448</td>\n",
       "    </tr>\n",
       "    <tr>\n",
       "      <th>1</th>\n",
       "      <td>278</td>\n",
       "      <td>[18, 80]</td>\n",
       "      <td>The Shawshank Redemption</td>\n",
       "      <td>Framed in the 1940s for the double murder of h...</td>\n",
       "      <td>90.415</td>\n",
       "      <td>1994-09-23</td>\n",
       "      <td>8.7</td>\n",
       "      <td>24376</td>\n",
       "    </tr>\n",
       "    <tr>\n",
       "      <th>2</th>\n",
       "      <td>240</td>\n",
       "      <td>[18, 80]</td>\n",
       "      <td>The Godfather Part II</td>\n",
       "      <td>In the continuing saga of the Corleone crime f...</td>\n",
       "      <td>70.637</td>\n",
       "      <td>1974-12-20</td>\n",
       "      <td>8.6</td>\n",
       "      <td>11144</td>\n",
       "    </tr>\n",
       "    <tr>\n",
       "      <th>3</th>\n",
       "      <td>424</td>\n",
       "      <td>[18, 36, 10752]</td>\n",
       "      <td>Schindler's List</td>\n",
       "      <td>The true story of how businessman Oskar Schind...</td>\n",
       "      <td>48.096</td>\n",
       "      <td>1993-12-15</td>\n",
       "      <td>8.6</td>\n",
       "      <td>14421</td>\n",
       "    </tr>\n",
       "    <tr>\n",
       "      <th>4</th>\n",
       "      <td>19404</td>\n",
       "      <td>[35, 18, 10749]</td>\n",
       "      <td>Dilwale Dulhania Le Jayenge</td>\n",
       "      <td>Raj is a rich, carefree, happy-go-lucky second...</td>\n",
       "      <td>26.588</td>\n",
       "      <td>1995-10-20</td>\n",
       "      <td>8.6</td>\n",
       "      <td>4225</td>\n",
       "    </tr>\n",
       "    <tr>\n",
       "      <th>...</th>\n",
       "      <td>...</td>\n",
       "      <td>...</td>\n",
       "      <td>...</td>\n",
       "      <td>...</td>\n",
       "      <td>...</td>\n",
       "      <td>...</td>\n",
       "      <td>...</td>\n",
       "      <td>...</td>\n",
       "    </tr>\n",
       "    <tr>\n",
       "      <th>9995</th>\n",
       "      <td>604563</td>\n",
       "      <td>[35, 12, 28]</td>\n",
       "      <td>OSS 117: From Africa with Love</td>\n",
       "      <td>1981. Hubert Bonisseur de la Bath, aka OSS 117...</td>\n",
       "      <td>9.245</td>\n",
       "      <td>2021-08-04</td>\n",
       "      <td>5.7</td>\n",
       "      <td>664</td>\n",
       "    </tr>\n",
       "    <tr>\n",
       "      <th>9996</th>\n",
       "      <td>193687</td>\n",
       "      <td>[878, 18]</td>\n",
       "      <td>Z for Zachariah</td>\n",
       "      <td>In the wake of a nuclear war, a young woman su...</td>\n",
       "      <td>11.309</td>\n",
       "      <td>2015-08-13</td>\n",
       "      <td>5.7</td>\n",
       "      <td>856</td>\n",
       "    </tr>\n",
       "    <tr>\n",
       "      <th>9997</th>\n",
       "      <td>14423</td>\n",
       "      <td>[35, 28]</td>\n",
       "      <td>First Sunday</td>\n",
       "      <td>Durell and LeeJohn are best friends and bumbli...</td>\n",
       "      <td>8.188</td>\n",
       "      <td>2008-01-11</td>\n",
       "      <td>5.7</td>\n",
       "      <td>215</td>\n",
       "    </tr>\n",
       "    <tr>\n",
       "      <th>9998</th>\n",
       "      <td>10154</td>\n",
       "      <td>[35, 80, 10749]</td>\n",
       "      <td>Mickey Blue Eyes</td>\n",
       "      <td>An English auctioneer proposes to the daughter...</td>\n",
       "      <td>9.401</td>\n",
       "      <td>1999-08-16</td>\n",
       "      <td>5.7</td>\n",
       "      <td>502</td>\n",
       "    </tr>\n",
       "    <tr>\n",
       "      <th>9999</th>\n",
       "      <td>440762</td>\n",
       "      <td>[35]</td>\n",
       "      <td>Jay and Silent Bob Reboot</td>\n",
       "      <td>Jay and Silent Bob embark on a cross-country m...</td>\n",
       "      <td>13.206</td>\n",
       "      <td>2019-10-15</td>\n",
       "      <td>5.7</td>\n",
       "      <td>452</td>\n",
       "    </tr>\n",
       "  </tbody>\n",
       "</table>\n",
       "<p>10000 rows × 8 columns</p>\n",
       "</div>"
      ],
      "text/plain": [
       "          id        genre_ids                           title  \\\n",
       "0        238         [18, 80]                   The Godfather   \n",
       "1        278         [18, 80]        The Shawshank Redemption   \n",
       "2        240         [18, 80]           The Godfather Part II   \n",
       "3        424  [18, 36, 10752]                Schindler's List   \n",
       "4      19404  [35, 18, 10749]     Dilwale Dulhania Le Jayenge   \n",
       "...      ...              ...                             ...   \n",
       "9995  604563     [35, 12, 28]  OSS 117: From Africa with Love   \n",
       "9996  193687        [878, 18]                 Z for Zachariah   \n",
       "9997   14423         [35, 28]                    First Sunday   \n",
       "9998   10154  [35, 80, 10749]                Mickey Blue Eyes   \n",
       "9999  440762             [35]       Jay and Silent Bob Reboot   \n",
       "\n",
       "                                               overview  popularity  \\\n",
       "0     Spanning the years 1945 to 1955, a chronicle o...     119.438   \n",
       "1     Framed in the 1940s for the double murder of h...      90.415   \n",
       "2     In the continuing saga of the Corleone crime f...      70.637   \n",
       "3     The true story of how businessman Oskar Schind...      48.096   \n",
       "4     Raj is a rich, carefree, happy-go-lucky second...      26.588   \n",
       "...                                                 ...         ...   \n",
       "9995  1981. Hubert Bonisseur de la Bath, aka OSS 117...       9.245   \n",
       "9996  In the wake of a nuclear war, a young woman su...      11.309   \n",
       "9997  Durell and LeeJohn are best friends and bumbli...       8.188   \n",
       "9998  An English auctioneer proposes to the daughter...       9.401   \n",
       "9999  Jay and Silent Bob embark on a cross-country m...      13.206   \n",
       "\n",
       "     release_date  vote_average  vote_count  \n",
       "0      1972-03-14           8.7       18448  \n",
       "1      1994-09-23           8.7       24376  \n",
       "2      1974-12-20           8.6       11144  \n",
       "3      1993-12-15           8.6       14421  \n",
       "4      1995-10-20           8.6        4225  \n",
       "...           ...           ...         ...  \n",
       "9995   2021-08-04           5.7         664  \n",
       "9996   2015-08-13           5.7         856  \n",
       "9997   2008-01-11           5.7         215  \n",
       "9998   1999-08-16           5.7         502  \n",
       "9999   2019-10-15           5.7         452  \n",
       "\n",
       "[10000 rows x 8 columns]"
      ]
     },
     "execution_count": 41,
     "metadata": {},
     "output_type": "execute_result"
    }
   ],
   "source": [
    "# Convertir la columna \"release_date\" a tipo datetime\n",
    "df[\"release_date\"] = pd.to_datetime(df[\"release_date\"])\n",
    "df"
   ]
  },
  {
   "cell_type": "markdown",
   "metadata": {
    "id": "uKFJnQBTcw28"
   },
   "source": [
    "#### Debes tomar captura desde este punto hasta la impresión de los resultados\n",
    "#### Anota tu nombre abajo:\n",
    "#### **Nombre:** Zarco Romero José Antonio"
   ]
  },
  {
   "cell_type": "code",
   "execution_count": 42,
   "metadata": {
    "colab": {
     "base_uri": "https://localhost:8080/"
    },
    "executionInfo": {
     "elapsed": 318,
     "status": "ok",
     "timestamp": 1728486931296,
     "user": {
      "displayName": "SIAFI Capacitación",
      "userId": "01846424181559574846"
     },
     "user_tz": 360
    },
    "id": "HPWfhjSMW73m",
    "outputId": "3fff85aa-0096-4338-a8f4-fe3710413b20"
   },
   "outputs": [
    {
     "name": "stdout",
     "output_type": "stream",
     "text": [
      "The Godfather\n"
     ]
    }
   ],
   "source": [
    "# El nombre de la película con mayor promedio de votos (vote_average)\n",
    "indice_mayor_votos = df['vote_average'].idxmax()\n",
    "# best_rated_movie_name = df.loc[indice_mayor_votos][\"title\"]\n",
    "best_rated_movie_name = df.loc[indice_mayor_votos, \"title\"]\n",
    "print(best_rated_movie_name)"
   ]
  },
  {
   "cell_type": "code",
   "execution_count": 43,
   "metadata": {
    "colab": {
     "base_uri": "https://localhost:8080/"
    },
    "executionInfo": {
     "elapsed": 213,
     "status": "ok",
     "timestamp": 1728486970112,
     "user": {
      "displayName": "SIAFI Capacitación",
      "userId": "01846424181559574846"
     },
     "user_tz": 360
    },
    "id": "dk66vlMjXRb0",
    "outputId": "51e5bb1d-95d4-4766-a46f-6ee5223c148c"
   },
   "outputs": [
    {
     "name": "stdout",
     "output_type": "stream",
     "text": [
      "Samson\n"
     ]
    }
   ],
   "source": [
    "# El nombre de la película con menor promedio de votos (vote_average)\n",
    "indice_menor_votos = df['vote_average'].idxmin()\n",
    "# worst_rated_movie_name = df.loc[indice_menor_votos][\"title\"]\n",
    "worst_rated_movie_name = df.loc[indice_menor_votos, \"title\"]\n",
    "print(worst_rated_movie_name)"
   ]
  },
  {
   "cell_type": "code",
   "execution_count": 44,
   "metadata": {
    "colab": {
     "base_uri": "https://localhost:8080/"
    },
    "executionInfo": {
     "elapsed": 422,
     "status": "ok",
     "timestamp": 1728487023413,
     "user": {
      "displayName": "SIAFI Capacitación",
      "userId": "01846424181559574846"
     },
     "user_tz": 360
    },
    "id": "nfCWh3ZdXRzk",
    "outputId": "72db4e5b-233a-4df8-bb21-22cd1af4907c"
   },
   "outputs": [
    {
     "name": "stdout",
     "output_type": "stream",
     "text": [
      "1673.6643\n"
     ]
    }
   ],
   "source": [
    "# El promedio de votos de todas las películas (vote_count)\n",
    "# average_vote_count = np.mean(df['vote_count'])\n",
    "average_vote_count = df['vote_count'].mean()\n",
    "print(average_vote_count)"
   ]
  },
  {
   "cell_type": "code",
   "execution_count": 50,
   "metadata": {
    "colab": {
     "base_uri": "https://localhost:8080/"
    },
    "executionInfo": {
     "elapsed": 263,
     "status": "ok",
     "timestamp": 1728487137774,
     "user": {
      "displayName": "SIAFI Capacitación",
      "userId": "01846424181559574846"
     },
     "user_tz": 360
    },
    "id": "1alrW8tnXR_7",
    "outputId": "2c8c75a9-a0e6-478e-8922-3f1d00667157"
   },
   "outputs": [
    {
     "name": "stdout",
     "output_type": "stream",
     "text": [
      "Heart of Stone\n"
     ]
    }
   ],
   "source": [
    "# El nombre de la película más reciente del dataset (release_date)\n",
    "# most_recent_movie_name = df.loc[df['release_date'].idxmax()]['title']\n",
    "indice_mas_reciente = df['release_date'].idxmax()\n",
    "most_recent_movie_name = df.loc[indice_mas_reciente, \"title\"]\n",
    "# most_recent_movie_name = df.loc[indice_mas_reciente][\"release_date\"].year\n",
    "print(most_recent_movie_name)"
   ]
  },
  {
   "cell_type": "code",
   "execution_count": 61,
   "metadata": {
    "colab": {
     "base_uri": "https://localhost:8080/"
    },
    "executionInfo": {
     "elapsed": 296,
     "status": "ok",
     "timestamp": 1728487333607,
     "user": {
      "displayName": "SIAFI Capacitación",
      "userId": "01846424181559574846"
     },
     "user_tz": 360
    },
    "id": "c-Qi81SGcGMG",
    "outputId": "deba1acf-1ff7-49bb-d00d-01ccfcc45dde"
   },
   "outputs": [
    {
     "name": "stdout",
     "output_type": "stream",
     "text": [
      "         id        genre_ids                        title  \\\n",
      "1       278         [18, 80]     The Shawshank Redemption   \n",
      "3       424  [18, 36, 10752]             Schindler's List   \n",
      "4     19404  [35, 18, 10749]  Dilwale Dulhania Le Jayenge   \n",
      "10      497     [14, 18, 80]               The Green Mile   \n",
      "11      680         [53, 80]                 Pulp Fiction   \n",
      "...     ...              ...                          ...   \n",
      "9969  10861         [28, 53]                 Maximum Risk   \n",
      "9974  10723     [35, 80, 28]                  Bulletproof   \n",
      "9975   9292     [28, 12, 35]                  Hudson Hawk   \n",
      "9987   2565      [35, 10749]       Joe Versus the Volcano   \n",
      "9998  10154  [35, 80, 10749]             Mickey Blue Eyes   \n",
      "\n",
      "                                               overview  popularity  \\\n",
      "1     Framed in the 1940s for the double murder of h...      90.415   \n",
      "3     The true story of how businessman Oskar Schind...      48.096   \n",
      "4     Raj is a rich, carefree, happy-go-lucky second...      26.588   \n",
      "10    A supernatural tale set on death row in a Sout...      65.211   \n",
      "11    A burger-loving hit man, his philosophical par...      66.100   \n",
      "...                                                 ...         ...   \n",
      "9969  Alain Moreau's investigation into the death of...      13.250   \n",
      "9974  An undercover police officer named Rock Keats ...       9.754   \n",
      "9975  Eddie Hawkins, called Hudson Hawk has just bee...      17.840   \n",
      "9987  Hypochondriac Joe Banks finds out he has six m...       9.081   \n",
      "9998  An English auctioneer proposes to the daughter...       9.401   \n",
      "\n",
      "     release_date  vote_average  vote_count  \n",
      "1      1994-09-23           8.7       24376  \n",
      "3      1993-12-15           8.6       14421  \n",
      "4      1995-10-20           8.6        4225  \n",
      "10     1999-12-10           8.5       15763  \n",
      "11     1994-09-10           8.5       25678  \n",
      "...           ...           ...         ...  \n",
      "9969   1996-09-13           5.7         416  \n",
      "9974   1996-09-06           5.7         523  \n",
      "9975   1991-05-23           5.7         876  \n",
      "9987   1990-03-09           5.7         465  \n",
      "9998   1999-08-16           5.7         502  \n",
      "\n",
      "[1199 rows x 8 columns]\n"
     ]
    }
   ],
   "source": [
    "# El nombre de la película más popular de los años 90s (popularity, release_date)\n",
    "# Filtra las películas entre el año 1990 y 1999\n",
    "movies_90s = df[(df[\"release_date\"].dt.year >= 1990) & (df[\"release_date\"].dt.year < 2000)]\n",
    "print(movies_90s)"
   ]
  },
  {
   "cell_type": "code",
   "execution_count": 62,
   "metadata": {
    "colab": {
     "base_uri": "https://localhost:8080/"
    },
    "executionInfo": {
     "elapsed": 370,
     "status": "ok",
     "timestamp": 1728487419998,
     "user": {
      "displayName": "SIAFI Capacitación",
      "userId": "01846424181559574846"
     },
     "user_tz": 360
    },
    "id": "y6YlYupYXeEu",
    "outputId": "c4ced50d-f044-4a07-c8b0-06080c7e6ba8"
   },
   "outputs": [
    {
     "name": "stdout",
     "output_type": "stream",
     "text": [
      "Titanic\n"
     ]
    }
   ],
   "source": [
    "# Utiliza el nuevo dataframe movies_90s\n",
    "indice_mas_popular = movies_90s['popularity'].idxmax()\n",
    "most_popular_90s_movie_name = movies_90s.loc[indice_mas_popular, \"title\"]\n",
    "print(most_popular_90s_movie_name)"
   ]
  },
  {
   "cell_type": "code",
   "execution_count": 64,
   "metadata": {
    "colab": {
     "base_uri": "https://localhost:8080/"
    },
    "executionInfo": {
     "elapsed": 246,
     "status": "ok",
     "timestamp": 1728487424493,
     "user": {
      "displayName": "SIAFI Capacitación",
      "userId": "01846424181559574846"
     },
     "user_tz": 360
    },
    "id": "6LImkucjQPo9",
    "outputId": "57868f34-22c9-49d2-da23-01bb49518bb9"
   },
   "outputs": [
    {
     "name": "stdout",
     "output_type": "stream",
     "text": [
      "La película con mayor promedio de votos es The Godfather\n",
      "La película con menor promedio de votos es Samson\n",
      "El promedio de votos de todas las películas es 1673.6643\n",
      "La película más reciente es Heart of Stone\n",
      "La película más popular de los 90s es Titanic\n"
     ]
    }
   ],
   "source": [
    "print(f\"La película con mayor promedio de votos es {best_rated_movie_name}\")\n",
    "print(f\"La película con menor promedio de votos es {worst_rated_movie_name}\")\n",
    "print(f\"El promedio de votos de todas las películas es {average_vote_count}\")\n",
    "print(f\"La película más reciente es {most_recent_movie_name}\")\n",
    "print(f\"La película más popular de los 90s es {most_popular_90s_movie_name}\")"
   ]
  },
  {
   "cell_type": "code",
   "execution_count": null,
   "metadata": {},
   "outputs": [],
   "source": []
  }
 ],
 "metadata": {
  "colab": {
   "provenance": []
  },
  "kernelspec": {
   "display_name": "Python 3 (ipykernel)",
   "language": "python",
   "name": "python3"
  },
  "language_info": {
   "codemirror_mode": {
    "name": "ipython",
    "version": 3
   },
   "file_extension": ".py",
   "mimetype": "text/x-python",
   "name": "python",
   "nbconvert_exporter": "python",
   "pygments_lexer": "ipython3",
   "version": "3.11.9"
  }
 },
 "nbformat": 4,
 "nbformat_minor": 4
}
